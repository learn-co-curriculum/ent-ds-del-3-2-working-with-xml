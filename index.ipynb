{
 "cells": [
  {
   "cell_type": "markdown",
   "metadata": {},
   "source": [
    "# Working with XML\n",
    "\n",
    "\n",
    "## Introduction\n",
    "When you retrieve information from an API, it is often stored in either an XML or a JSON format. In this lesson, we look at what XML is, the problems it solves, and provide some hands on experience working with it. \n",
    "\n",
    "## Objectives\n",
    "You will be able to:\n",
    "* Explain what XML is and why it is used\n",
    "* Retrieve information from an XML file and store it in a List or DataFrame"
   ]
  },
  {
   "cell_type": "markdown",
   "metadata": {},
   "source": [
    "## eXtensible Markup Language\n",
    "\n",
    "XML (eXtensible Markup Language) is a way of taking information and making it very easy for computers to read and process it. Here is an example:\n",
    "\n",
    "```\n",
    "<people>\n",
    "    <person>\n",
    "        <firstname>Jane</firstname>\n",
    "        <lastname>Anderson</lastname>\n",
    "        <phone type=\"cell\">111-111-1111</phone>\n",
    "    </person>\n",
    "    <person>\n",
    "        <firstname>Joe</firstname>\n",
    "        <lastname>Sonos</lastname>\n",
    "        <phone type=\"office\">111-111-1111</phone>\n",
    "    </person>\n",
    "    <person>\n",
    "        <firstname>Alison</firstname>\n",
    "        <lastname>Demming</lastname>\n",
    "        <phone type=\"home\">111-111-1111</phone>\n",
    "    </person>\n",
    "</people>\n",
    "```\n",
    "You will see that there are a set of Elements denoted by words surrounded by angle brackets (they're called tags).\n",
    "\n",
    "You'll also see that each Element starts with a tag and ends with the same tag but with a backslash - so a person starts with the `<person>` tag and ends with the `</person>` tag. You'll also notice that Elements can be nested - so the firstname Element is nested within each of the three person Elements.\n",
    "\n",
    "Finally, you'll notice that in addition to Elements that have values (e.g. the first firstname element has a value of `Jane`), there are also attributes. In the example above the only attribute is a `type` attribute on the phone Element, allowing us to distinguish between home, work and cell phones. The difference between a value and an attribute is that a value is contained between the opening and closing tags - e.g. `<firstname>Alison</firstname>`, whereas an attribute is written *within* the opening tag for an element - e.g. `<phone type=\"office\">`.\n",
    "\n",
    "**Questions:**\n",
    "* **What is the second Element for each of the people?**\n",
    "* **Which is the only Element in the document with an attribute?**\n",
    "* **What is the closing tag for the third Element within each of the `people` Elements?**\n",
    "\n",
    "\n",
    "## The Problem it Solves - Structured, Hierarchical Data Description\n",
    "It's important to understand the kinds of problems that XML *(or JSON - they both solve the same problem just using different syntax)* is optimized to solve.\n",
    "\n",
    "### Best for Structured Data\n",
    "Unstructured data is something like a book or an essay - lots of words, but free form text. While unstructured data can be contained within an XML document, the strength of XML documents is in describing structured information. Structured information is where the information is broken down into types of data. So for example, I could write an unstructured essay describing a person, but I could also create a structured document describing attributes of the person such as their first name, last name, date of birth and home phone number. Such a document could be a good use case for being stored in an XML file.\n",
    "\n",
    "### Best for Hierarchical Data\n",
    "Lets say we wanted to store structured information on a list of people with their first name, last name and phone number. How could we store that? We would probably do what we've done to date. Have a csv file with column names in the first row. That would be easy to read (for either a person or a computer) and would work perfectly. So for simple structured data (that fits neatly into a simple single sheet in a spreadsheet with one type of data per column), you probably don't need to use XML *(although sometimes such information is provided using XML anyway)*.\n",
    "\n",
    "The real strength of XML is for hierarchical data. Imagine now that we have information about a list of people. But in addition to having their first name, last name and phone number, we also have a list of one or more addresses for each person. Now how would we store and share that information?\n",
    "\n",
    "If we know that nobody has more than (say) three addresses, we could just add a bunch of extra columns to the csv file with names like address1_street, address1_city, address1_state, address1_zip, address2_street, address2_city and so on. But what happens if some people have 20 addresses and some have none? It's a pretty inefficient way of storing the information adding twenty sets of columns, and if you suddenly find that one of the people has 21 addresses, you need to change the structure of the file and anyone working with the file will have to rewrite their scripts to handle the extra fields for that twenty first address.\n",
    "\n",
    "With XML, it's easy. Each person can have a collection of zero or more addresses, so we might take the example above and edit it to become:\n",
    "\n",
    "```\n",
    "<people>\n",
    "    <person>\n",
    "        <firstname>Jane</firstname>\n",
    "        <lastname>Anderson</lastname>\n",
    "        <phone type=\"cell\">111-111-1111</phone>\n",
    "        <addresses></addresses>\n",
    "    </person>\n",
    "    <person>\n",
    "        <firstname>Joe</firstname>\n",
    "        <lastname>Sonos</lastname>\n",
    "        <phone type=\"office\">111-111-1111</phone>\n",
    "        <addresses>\n",
    "            <address type=\"home\">\n",
    "                <street>27 Magnolia Steet</street>\n",
    "                <city>Maplewood</city>\n",
    "                <state>NJ</state>\n",
    "            </address>\n",
    "            <address type=\"work\">\n",
    "                <street>4 Main Street</street>\n",
    "                <city>Montclair</city>\n",
    "                <state>NJ</state>\n",
    "            </address>\n",
    "        </addresses>\n",
    "    </person>\n",
    "    <person>\n",
    "        <firstname>Alison</firstname>\n",
    "        <lastname>Demming</lastname>\n",
    "        <phone type=\"home\">111-111-1111</phone>\n",
    "        <addresses>\n",
    "            <address type=\"home\">\n",
    "                <street>27 Magnolia Steet</street>\n",
    "                <city>Maplewood</city>\n",
    "                <state>NJ</state>\n",
    "            </address>\n",
    "            <address type=\"work\">\n",
    "                <street>12 Main Street</street>\n",
    "                <city>Montclair</city>\n",
    "                <state>NJ</state>\n",
    "            </address>\n",
    "        </addresses>\n",
    "    </person>\n",
    "</people>\n",
    "```\n",
    "\n",
    "As you can see, the XML gracefully handles both Jane who doesn't have any addresses on file, and Joe and Alison who both have two. And Joe and Alison could easily have many more addresses without changing the structure of the XML file - we'd just add some more `address` Elements within the `addresses` element that contains the collection of addresses.\n"
   ]
  },
  {
   "cell_type": "markdown",
   "metadata": {},
   "source": [
    "## Loading XML Data\n",
    "\n",
    "The ability to parse and process XML is so important that there is a standard library built right into Python for working with XML files. The full docs for the XML library are available [here](https://docs.python.org/3.7/library/xml.html).\n",
    "\n",
    "For this project we'll just be using a submodule within that library - ElementTree:\n",
    "https://docs.python.org/3.7/library/xml.etree.elementtree.html#module-xml.etree.ElementTree\n",
    "\n",
    "Lets start by working with a very simple file - the address data above. The first thing we need to do is to import the ElementTree code, parse the XML file and then store those results in a variable we can have a look through."
   ]
  },
  {
   "cell_type": "code",
   "execution_count": 93,
   "metadata": {},
   "outputs": [
    {
     "name": "stdout",
     "output_type": "stream",
     "text": [
      "<class 'xml.etree.ElementTree.Element'>\n"
     ]
    }
   ],
   "source": [
    "import xml.etree.ElementTree as ET\n",
    "\n",
    "tree = ET.parse('people.xml')\n",
    "root = tree.getroot()\n",
    "print(type(root))"
   ]
  },
  {
   "cell_type": "markdown",
   "metadata": {},
   "source": [
    "OK, now lets go look at the elements within the root of the XML document. It is a collection that is iterable, so we can iterate over the elements within the document using the `for ... in` syntax we learned earlier for looping over collections. Lets start by printing out all of the top level elements, just to see what the content looks like:"
   ]
  },
  {
   "cell_type": "code",
   "execution_count": 94,
   "metadata": {},
   "outputs": [
    {
     "name": "stdout",
     "output_type": "stream",
     "text": [
      "person {}\n",
      "person {}\n",
      "person {}\n"
     ]
    }
   ],
   "source": [
    "for child in root:\n",
    "    print(child.tag, child.attrib)"
   ]
  },
  {
   "cell_type": "markdown",
   "metadata": {},
   "source": [
    "OK, that's a start. So we know the root (people) is comprised of a set of person tags. Now lets see if we can dig down into those tags to start to retrieve useful information."
   ]
  },
  {
   "cell_type": "code",
   "execution_count": 95,
   "metadata": {},
   "outputs": [
    {
     "name": "stdout",
     "output_type": "stream",
     "text": [
      "person {}\n",
      "Elements:\n",
      "\t firstname {} Jane\n",
      "\t lastname {} Anderson\n",
      "\t phone {'type': 'cell'} 111-111-1111\n",
      "\t addresses {} None\n",
      "\n",
      "\n",
      "person {}\n",
      "Elements:\n",
      "\t firstname {} Joe\n",
      "\t lastname {} Sonos\n",
      "\t phone {'type': 'office'} 111-111-1111\n",
      "\t addresses {} None\n",
      "\n",
      "\n",
      "person {}\n",
      "Elements:\n",
      "\t firstname {} Alison\n",
      "\t lastname {} Demming\n",
      "\t phone {'type': 'home'} 111-111-1111\n",
      "\t addresses {} None\n",
      "\n",
      "\n"
     ]
    }
   ],
   "source": [
    "for person in root:\n",
    "    print(person.tag, person.attrib)\n",
    "    print('Elements:')\n",
    "    for element in person:\n",
    "        print('\\t', element.tag, element.attrib, element.text)\n",
    "    print('\\n')"
   ]
  },
  {
   "cell_type": "markdown",
   "metadata": {},
   "source": [
    "There are a few things going on in the code above. Firstly, the variable names we're using like person and element could be called anything else. The following code works equally well:"
   ]
  },
  {
   "cell_type": "code",
   "execution_count": 96,
   "metadata": {},
   "outputs": [
    {
     "name": "stdout",
     "output_type": "stream",
     "text": [
      "person {}\n",
      "Elements:\n",
      "\t firstname {} Jane\n",
      "\t lastname {} Anderson\n",
      "\t phone {'type': 'cell'} 111-111-1111\n",
      "\t addresses {} None\n",
      "\n",
      "\n",
      "person {}\n",
      "Elements:\n",
      "\t firstname {} Joe\n",
      "\t lastname {} Sonos\n",
      "\t phone {'type': 'office'} 111-111-1111\n",
      "\t addresses {} None\n",
      "\n",
      "\n",
      "person {}\n",
      "Elements:\n",
      "\t firstname {} Alison\n",
      "\t lastname {} Demming\n",
      "\t phone {'type': 'home'} 111-111-1111\n",
      "\t addresses {} None\n",
      "\n",
      "\n"
     ]
    }
   ],
   "source": [
    "for duck in root:\n",
    "    print(duck.tag, duck.attrib)\n",
    "    print('Elements:')\n",
    "    for elephant in duck:\n",
    "        print('\\t', elephant.tag, elephant.attrib, elephant.text)\n",
    "    print('\\n')"
   ]
  },
  {
   "cell_type": "markdown",
   "metadata": {},
   "source": [
    "All Python knows is that root contains a collection of things we can iterate over, and some of those in turn contain a collection of other things that we can iterate over. What we call them doesn't matter to the computer, although it's a good idea to use meaningful names for variables so you can remember what your code was supposed to do when you come back to it later.\n",
    "\n",
    "Secondly, if you're wondering what the `print('\\t', elephant.tag, elephant.attrib, elephant.text)` does, it prints each of the comma delimited items onto a single row, so it starts by printing a tab character to indent the output (`\\t`), then it prints the name of the tag, any attribute(s) the tag might contain, and finally the contents (`text`) of the tag.\n",
    "\n",
    "There is also a convenience method .iter() that allows you to iterate through all sub generations, regardless of depth."
   ]
  },
  {
   "cell_type": "code",
   "execution_count": 97,
   "metadata": {},
   "outputs": [
    {
     "name": "stdout",
     "output_type": "stream",
     "text": [
      "people {} \n",
      "\n",
      "person {} None\n",
      "firstname {} Jane\n",
      "lastname {} Anderson\n",
      "phone {'type': 'cell'} 111-111-1111\n",
      "addresses {} None\n",
      "person {} None\n",
      "firstname {} Joe\n",
      "lastname {} Sonos\n",
      "phone {'type': 'office'} 111-111-1111\n",
      "addresses {} None\n",
      "address {'type': 'home'} None\n",
      "street {} 27 Magnolia Steet\n",
      "city {} Maplewood\n",
      "state {} NJ\n",
      "address {'type': 'work'} None\n",
      "street {} 4 Main Street\n",
      "city {} Montclair\n",
      "state {} NJ\n",
      "person {} None\n",
      "firstname {} Alison\n",
      "lastname {} Demming\n",
      "phone {'type': 'home'} 111-111-1111\n",
      "addresses {} None\n",
      "address {'type': 'home'} None\n",
      "street {} 27 Magnolia Steet\n",
      "city {} Maplewood\n",
      "state {} NJ\n",
      "address {'type': 'work'} None\n",
      "street {} 12 Main Street\n",
      "city {} Montclair\n",
      "state {} NJ\n"
     ]
    }
   ],
   "source": [
    "for element in root.iter():\n",
    "    print(element.tag, element.attrib, element.text)"
   ]
  },
  {
   "cell_type": "markdown",
   "metadata": {},
   "source": [
    "OK, so let's try to do something useful. Let's retrieve the phone number for each of the people and put them all in a list . . ."
   ]
  },
  {
   "cell_type": "code",
   "execution_count": 98,
   "metadata": {},
   "outputs": [
    {
     "name": "stdout",
     "output_type": "stream",
     "text": [
      "['111-111-1111', '111-111-1111', '111-111-1111']\n"
     ]
    }
   ],
   "source": [
    "phone_numbers = []\n",
    "for person in root:\n",
    "    for element in person:\n",
    "        if element.tag == \"phone\":\n",
    "            phone_numbers.append(element.text)\n",
    "print(phone_numbers)"
   ]
  },
  {
   "cell_type": "markdown",
   "metadata": {},
   "source": [
    "Great - now lets try to get a list of addresses - lets just take the cities and make a list of them first."
   ]
  },
  {
   "cell_type": "code",
   "execution_count": 99,
   "metadata": {},
   "outputs": [
    {
     "name": "stdout",
     "output_type": "stream",
     "text": [
      "['Maplewood', 'Montclair', 'Maplewood', 'Montclair']\n"
     ]
    }
   ],
   "source": [
    "cities = []\n",
    "for person in root:\n",
    "    for element in person:\n",
    "        if element.tag == \"addresses\":\n",
    "            for address in element:\n",
    "                for item in address:\n",
    "                    if item.tag == \"city\":\n",
    "                        cities.append(item.text)\n",
    "print(cities)"
   ]
  },
  {
   "cell_type": "markdown",
   "metadata": {},
   "source": [
    "OK, now it's your turn! Start by iterating over the document and creating & printing a list of first names:"
   ]
  },
  {
   "cell_type": "code",
   "execution_count": 100,
   "metadata": {},
   "outputs": [
    {
     "name": "stdout",
     "output_type": "stream",
     "text": [
      "['Jane', 'Joe', 'Alison']\n"
     ]
    }
   ],
   "source": [
    "firstnames = []\n",
    "for person in root:\n",
    "    for element in person:\n",
    "        if element.tag == \"firstname\":\n",
    "            firstnames.append(element.text)\n",
    "print(firstnames)"
   ]
  },
  {
   "cell_type": "markdown",
   "metadata": {},
   "source": [
    "Great, now go in and create a list of the states that the people have an address in:"
   ]
  },
  {
   "cell_type": "code",
   "execution_count": 101,
   "metadata": {},
   "outputs": [
    {
     "name": "stdout",
     "output_type": "stream",
     "text": [
      "['NJ', 'NJ', 'NJ', 'NJ']\n"
     ]
    }
   ],
   "source": [
    "states = []\n",
    "for person in root:\n",
    "    for element in person:\n",
    "        if element.tag == \"addresses\":\n",
    "            for address in element:\n",
    "                for item in address:\n",
    "                    if item.tag == \"state\":\n",
    "                        states.append(item.text)\n",
    "print(states)"
   ]
  },
  {
   "cell_type": "markdown",
   "metadata": {},
   "source": [
    "There are some other ways of working with XML files. In addition to just iterating over all of the elements under a given node, you can also find elements by name and retrieve their values by calling `.text`. So if you wanted a list of first names, you could do the following:"
   ]
  },
  {
   "cell_type": "code",
   "execution_count": 102,
   "metadata": {},
   "outputs": [
    {
     "name": "stdout",
     "output_type": "stream",
     "text": [
      "['Jane', 'Joe', 'Alison']\n"
     ]
    }
   ],
   "source": [
    "first_names = []\n",
    "for person in root:\n",
    "    first_names.append(person.find('firstname').text)\n",
    "print(first_names)"
   ]
  },
  {
   "cell_type": "markdown",
   "metadata": {},
   "source": [
    "Now it's your turn! Create a list of full names (hint, you'll have to concatenate the first name, a space and then the last name for every full name):"
   ]
  },
  {
   "cell_type": "code",
   "execution_count": 103,
   "metadata": {},
   "outputs": [
    {
     "name": "stdout",
     "output_type": "stream",
     "text": [
      "['Jane Anderson', 'Joe Sonos', 'Alison Demming']\n"
     ]
    }
   ],
   "source": [
    "full_names = []\n",
    "for person in root:\n",
    "    full_names.append(person.find('firstname').text + \" \" + person.find('lastname').text)\n",
    "print(full_names)"
   ]
  },
  {
   "cell_type": "markdown",
   "metadata": {},
   "source": [
    "OK, in practice, you're usually going to want to create a DataFrame from your XML file. Here is the code to create a DataFrame containing the first and last names for each person:"
   ]
  },
  {
   "cell_type": "code",
   "execution_count": 104,
   "metadata": {},
   "outputs": [
    {
     "data": {
      "text/html": [
       "<div>\n",
       "<style scoped>\n",
       "    .dataframe tbody tr th:only-of-type {\n",
       "        vertical-align: middle;\n",
       "    }\n",
       "\n",
       "    .dataframe tbody tr th {\n",
       "        vertical-align: top;\n",
       "    }\n",
       "\n",
       "    .dataframe thead th {\n",
       "        text-align: right;\n",
       "    }\n",
       "</style>\n",
       "<table border=\"1\" class=\"dataframe\">\n",
       "  <thead>\n",
       "    <tr style=\"text-align: right;\">\n",
       "      <th></th>\n",
       "      <th>firstname</th>\n",
       "      <th>lastname</th>\n",
       "    </tr>\n",
       "  </thead>\n",
       "  <tbody>\n",
       "    <tr>\n",
       "      <th>0</th>\n",
       "      <td>Jane</td>\n",
       "      <td>Anderson</td>\n",
       "    </tr>\n",
       "    <tr>\n",
       "      <th>1</th>\n",
       "      <td>Joe</td>\n",
       "      <td>Sonos</td>\n",
       "    </tr>\n",
       "    <tr>\n",
       "      <th>2</th>\n",
       "      <td>Alison</td>\n",
       "      <td>Demming</td>\n",
       "    </tr>\n",
       "  </tbody>\n",
       "</table>\n",
       "</div>"
      ],
      "text/plain": [
       "  firstname  lastname\n",
       "0      Jane  Anderson\n",
       "1       Joe     Sonos\n",
       "2    Alison   Demming"
      ]
     },
     "execution_count": 104,
     "metadata": {},
     "output_type": "execute_result"
    }
   ],
   "source": [
    "dfcols = ['firstname', 'lastname']\n",
    "df = pd.DataFrame(columns=dfcols)\n",
    "\n",
    "for person in root:\n",
    "    firstname = person.find('firstname').text\n",
    "    lastname = person.find('lastname').text\n",
    "    df = df.append(pd.Series([firstname, lastname], index=dfcols), ignore_index=True)\n",
    "df.head ()"
   ]
  },
  {
   "cell_type": "markdown",
   "metadata": {},
   "source": [
    "Great, now create a DataFrame that contains the first name, last name and phone for every person:"
   ]
  },
  {
   "cell_type": "code",
   "execution_count": 105,
   "metadata": {},
   "outputs": [
    {
     "data": {
      "text/html": [
       "<div>\n",
       "<style scoped>\n",
       "    .dataframe tbody tr th:only-of-type {\n",
       "        vertical-align: middle;\n",
       "    }\n",
       "\n",
       "    .dataframe tbody tr th {\n",
       "        vertical-align: top;\n",
       "    }\n",
       "\n",
       "    .dataframe thead th {\n",
       "        text-align: right;\n",
       "    }\n",
       "</style>\n",
       "<table border=\"1\" class=\"dataframe\">\n",
       "  <thead>\n",
       "    <tr style=\"text-align: right;\">\n",
       "      <th></th>\n",
       "      <th>firstname</th>\n",
       "      <th>lastname</th>\n",
       "      <th>phone</th>\n",
       "    </tr>\n",
       "  </thead>\n",
       "  <tbody>\n",
       "    <tr>\n",
       "      <th>0</th>\n",
       "      <td>Jane</td>\n",
       "      <td>Anderson</td>\n",
       "      <td>111-111-1111</td>\n",
       "    </tr>\n",
       "    <tr>\n",
       "      <th>1</th>\n",
       "      <td>Joe</td>\n",
       "      <td>Sonos</td>\n",
       "      <td>111-111-1111</td>\n",
       "    </tr>\n",
       "    <tr>\n",
       "      <th>2</th>\n",
       "      <td>Alison</td>\n",
       "      <td>Demming</td>\n",
       "      <td>111-111-1111</td>\n",
       "    </tr>\n",
       "  </tbody>\n",
       "</table>\n",
       "</div>"
      ],
      "text/plain": [
       "  firstname  lastname         phone\n",
       "0      Jane  Anderson  111-111-1111\n",
       "1       Joe     Sonos  111-111-1111\n",
       "2    Alison   Demming  111-111-1111"
      ]
     },
     "execution_count": 105,
     "metadata": {},
     "output_type": "execute_result"
    }
   ],
   "source": [
    "dfcols = ['firstname', 'lastname', 'phone']\n",
    "df = pd.DataFrame(columns=dfcols)\n",
    "\n",
    "for person in root:\n",
    "    firstname = person.find('firstname').text\n",
    "    lastname = person.find('lastname').text\n",
    "    phone = person.find('phone').text\n",
    "    df = df.append(pd.Series([firstname, lastname, phone], index=dfcols), ignore_index=True)\n",
    "df.head ()"
   ]
  },
  {
   "cell_type": "markdown",
   "metadata": {},
   "source": [
    "## Extra Credit (1)\n",
    "Sometimes you need to perform more complex transformations to create the DataFrame you want. Write some code to create a DataFrame with one row per address, containing the first name, last name and all of the address information for each address *(anyone without an address simply won't show up in the DataFrame)*."
   ]
  },
  {
   "cell_type": "code",
   "execution_count": 106,
   "metadata": {},
   "outputs": [
    {
     "data": {
      "text/html": [
       "<div>\n",
       "<style scoped>\n",
       "    .dataframe tbody tr th:only-of-type {\n",
       "        vertical-align: middle;\n",
       "    }\n",
       "\n",
       "    .dataframe tbody tr th {\n",
       "        vertical-align: top;\n",
       "    }\n",
       "\n",
       "    .dataframe thead th {\n",
       "        text-align: right;\n",
       "    }\n",
       "</style>\n",
       "<table border=\"1\" class=\"dataframe\">\n",
       "  <thead>\n",
       "    <tr style=\"text-align: right;\">\n",
       "      <th></th>\n",
       "      <th>firstname</th>\n",
       "      <th>lastname</th>\n",
       "      <th>street</th>\n",
       "      <th>city</th>\n",
       "      <th>state</th>\n",
       "    </tr>\n",
       "  </thead>\n",
       "  <tbody>\n",
       "    <tr>\n",
       "      <th>0</th>\n",
       "      <td>Joe</td>\n",
       "      <td>Sonos</td>\n",
       "      <td>27 Magnolia Steet</td>\n",
       "      <td>Maplewood</td>\n",
       "      <td>NJ</td>\n",
       "    </tr>\n",
       "    <tr>\n",
       "      <th>1</th>\n",
       "      <td>Joe</td>\n",
       "      <td>Sonos</td>\n",
       "      <td>4 Main Street</td>\n",
       "      <td>Montclair</td>\n",
       "      <td>NJ</td>\n",
       "    </tr>\n",
       "    <tr>\n",
       "      <th>2</th>\n",
       "      <td>Alison</td>\n",
       "      <td>Demming</td>\n",
       "      <td>27 Magnolia Steet</td>\n",
       "      <td>Maplewood</td>\n",
       "      <td>NJ</td>\n",
       "    </tr>\n",
       "    <tr>\n",
       "      <th>3</th>\n",
       "      <td>Alison</td>\n",
       "      <td>Demming</td>\n",
       "      <td>12 Main Street</td>\n",
       "      <td>Montclair</td>\n",
       "      <td>NJ</td>\n",
       "    </tr>\n",
       "  </tbody>\n",
       "</table>\n",
       "</div>"
      ],
      "text/plain": [
       "  firstname lastname             street       city state\n",
       "0       Joe    Sonos  27 Magnolia Steet  Maplewood    NJ\n",
       "1       Joe    Sonos      4 Main Street  Montclair    NJ\n",
       "2    Alison  Demming  27 Magnolia Steet  Maplewood    NJ\n",
       "3    Alison  Demming     12 Main Street  Montclair    NJ"
      ]
     },
     "execution_count": 106,
     "metadata": {},
     "output_type": "execute_result"
    }
   ],
   "source": [
    "dfcols = ['firstname', 'lastname', 'street', 'city', 'state']\n",
    "addresses = pd.DataFrame(columns=dfcols)\n",
    "\n",
    "for person in root:\n",
    "    firstname = person.find('firstname').text\n",
    "    lastname = person.find('lastname').text\n",
    "    for address in person.find('addresses'):\n",
    "        street = address.find('street').text\n",
    "        city = address.find('city').text\n",
    "        state = address.find('state').text\n",
    "        addresses = addresses.append(pd.Series([firstname, lastname, street, city, state], index=dfcols), ignore_index=True)\n",
    "addresses.head ()\n"
   ]
  },
  {
   "cell_type": "markdown",
   "metadata": {},
   "source": [
    "## Extra Credit (2)\n",
    "There is another file in this directory - `nyc_2001_campaign_finance.xml`. Open the file using Python, explore it using an iterator, and create a DataFrame containing the Candidate Name, Primary Pay, General Pay, Runoff Pay and Total Pay for each candidate."
   ]
  },
  {
   "cell_type": "code",
   "execution_count": 110,
   "metadata": {},
   "outputs": [
    {
     "name": "stdout",
     "output_type": "stream",
     "text": [
      "<class 'xml.etree.ElementTree.Element'>\n"
     ]
    },
    {
     "data": {
      "text/html": [
       "<div>\n",
       "<style scoped>\n",
       "    .dataframe tbody tr th:only-of-type {\n",
       "        vertical-align: middle;\n",
       "    }\n",
       "\n",
       "    .dataframe tbody tr th {\n",
       "        vertical-align: top;\n",
       "    }\n",
       "\n",
       "    .dataframe thead th {\n",
       "        text-align: right;\n",
       "    }\n",
       "</style>\n",
       "<table border=\"1\" class=\"dataframe\">\n",
       "  <thead>\n",
       "    <tr style=\"text-align: right;\">\n",
       "      <th></th>\n",
       "      <th>candname</th>\n",
       "      <th>primarypay</th>\n",
       "      <th>generalpay</th>\n",
       "      <th>runoffpay</th>\n",
       "      <th>totalpay</th>\n",
       "    </tr>\n",
       "  </thead>\n",
       "  <tbody>\n",
       "    <tr>\n",
       "      <th>0</th>\n",
       "      <td>Aboulafia, Sandy</td>\n",
       "      <td>45410.00</td>\n",
       "      <td>0</td>\n",
       "      <td>0</td>\n",
       "      <td>45410.00</td>\n",
       "    </tr>\n",
       "    <tr>\n",
       "      <th>1</th>\n",
       "      <td>Adams, Jackie R</td>\n",
       "      <td>11073.00</td>\n",
       "      <td>0</td>\n",
       "      <td>0</td>\n",
       "      <td>11073.00</td>\n",
       "    </tr>\n",
       "    <tr>\n",
       "      <th>2</th>\n",
       "      <td>Addabbo, Joseph P</td>\n",
       "      <td>75350.00</td>\n",
       "      <td>73970.00</td>\n",
       "      <td>0</td>\n",
       "      <td>149320.00</td>\n",
       "    </tr>\n",
       "    <tr>\n",
       "      <th>3</th>\n",
       "      <td>Alamo-Estrada, Agustin</td>\n",
       "      <td>25000.00</td>\n",
       "      <td>2400.00</td>\n",
       "      <td>0</td>\n",
       "      <td>27400.00</td>\n",
       "    </tr>\n",
       "    <tr>\n",
       "      <th>4</th>\n",
       "      <td>Allen, William A</td>\n",
       "      <td>62990.00</td>\n",
       "      <td>0</td>\n",
       "      <td>0</td>\n",
       "      <td>62990.00</td>\n",
       "    </tr>\n",
       "  </tbody>\n",
       "</table>\n",
       "</div>"
      ],
      "text/plain": [
       "                 candname primarypay generalpay runoffpay   totalpay\n",
       "0        Aboulafia, Sandy   45410.00          0         0   45410.00\n",
       "1         Adams, Jackie R   11073.00          0         0   11073.00\n",
       "2       Addabbo, Joseph P   75350.00   73970.00         0  149320.00\n",
       "3  Alamo-Estrada, Agustin   25000.00    2400.00         0   27400.00\n",
       "4        Allen, William A   62990.00          0         0   62990.00"
      ]
     },
     "execution_count": 110,
     "metadata": {},
     "output_type": "execute_result"
    }
   ],
   "source": [
    "import pandas as pd\n",
    "import xml.etree.ElementTree as ET\n",
    "\n",
    "tree = ET.parse('nyc_2001_campaign_finance.xml')\n",
    "root = tree.getroot()\n",
    "print(type(root))\n",
    "\n",
    "dfcols = ['candname', 'primarypay', 'generalpay', 'runoffpay', 'totalpay']\n",
    "candidates = pd.DataFrame(columns=dfcols)\n",
    "\n",
    "iterrows = iter(root.find(\"row\"))\n",
    "next(iterrows)\n",
    "for row in iterrows:\n",
    "    candname = row.find(\"candname\").text\n",
    "    primarypay = row.find(\"primarypay\").text\n",
    "    generalpay = row.find(\"generalpay\").text\n",
    "    runoffpay = row.find(\"runoffpay\").text\n",
    "    totalpay = row.find(\"totalpay\").text\n",
    "    candidates = candidates.append(pd.Series([candname, primarypay, generalpay, runoffpay, totalpay], index=dfcols), ignore_index=True)\n",
    "candidates.head ()\n"
   ]
  },
  {
   "cell_type": "markdown",
   "metadata": {},
   "source": [
    "## Summary\n",
    "\n",
    "Congratulations! Now you've got some hands on experience working with importing XML files and pulling out the data you want into a DataFrame. Next up, we'll look at how to do the same with JSON files."
   ]
  }
 ],
 "metadata": {
  "kernelspec": {
   "display_name": "Python 3",
   "language": "python",
   "name": "python3"
  },
  "language_info": {
   "codemirror_mode": {
    "name": "ipython",
    "version": 3
   },
   "file_extension": ".py",
   "mimetype": "text/x-python",
   "name": "python",
   "nbconvert_exporter": "python",
   "pygments_lexer": "ipython3",
   "version": "3.6.5"
  }
 },
 "nbformat": 4,
 "nbformat_minor": 2
}
